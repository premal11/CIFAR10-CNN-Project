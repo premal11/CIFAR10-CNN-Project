{
 "cells": [
  {
   "cell_type": "markdown",
   "metadata": {
    "id": "xM-hDe8HYsUk"
   },
   "source": [
    "# Assignment 2: Build a CNN for image recognition.\n",
    "### Name: [PREMAL DOSHI]\n",
    "- Turn in solutions as a single notebook (ipynb) and as a pdf on Canvas. No need to turn in datasets/word-docs.\n",
    "-\tMake sure to clearly and add comments to make your code readable.\n",
    "-\tYou are allowed to discuss with other students (up to three) or the instructor. Please put all the names of students that you discussed with. However individual students must write their own solutions.\n",
    "-\tCopying a program, or letting someone else copy your program, is a form of academic dishonesty.\n",
    "- Any referred material must be cited properly.\n",
    "-\tMaximally leverage Piazza to benefit other students by your questions and answers.\n",
    "-\tTry to be updated by checking notifications in both Piazza and Canvas class webpage."
   ]
  },
  {
   "cell_type": "markdown",
   "metadata": {
    "id": "ziM-E1qVYsUm"
   },
   "source": [
    "## 0. You will do the following:\n",
    "\n",
    "1. Read, complete, and run the code.\n",
    "\n",
    "2. **Make substantial improvements** to maximize the accurcy.\n",
    "\n",
    "## Requirements:\n",
    "\n",
    "1. You can use whatever CNN architecture, including VGG, Inception, and ResNet. However, you must build the networks layer by layer. You must NOT import the archetectures from ```keras.applications```.\n",
    "\n",
    "2. Make sure ```BatchNormalization``` is between a ```Conv```/```Dense``` layer and an ```activation``` layer.\n",
    "\n",
    "3. If you want to regularize a ```Conv```/```Dense``` layer, you should place a ```Dropout``` layer **before** the ```Conv```/```Dense``` layer.\n",
    "\n",
    "4. An accuracy above 70% is considered reasonable. An accuracy above 80% is considered good. Without data augmentation, achieving 80% accuracy is difficult.\n",
    "\n",
    "\n",
    "## Google Colab\n",
    "\n",
    "- If you do not have GPU, the training of a CNN can be slow. Google Colab is a good option.\n",
    "\n",
    "- Keep in mind that you must download it as an IPYNB file and then submit IPython Notebook to Canvas.\n",
    "\n",
    "- Also keep in mind that the IPYNB files must contain the outputs. (Otherwise, the teaching staff will not be able to know the correctness and performance.) Do the followings to keep the outputs.\n",
    "\n",
    "- In Colab, go to ```Runtime``` --> ```Change runtime type``` --> Do NOT check ```Omit code cell output when saving this notebook```. In this way, the downloaded IPYNB file contains the outputs."
   ]
  },
  {
   "cell_type": "markdown",
   "metadata": {
    "id": "7Galj-ueYsUn"
   },
   "source": [
    "## 1. Data preparation"
   ]
  },
  {
   "cell_type": "markdown",
   "metadata": {
    "id": "EBn1ZzW8YsUo"
   },
   "source": [
    "### 1.1. Load data\n"
   ]
  },
  {
   "cell_type": "code",
   "execution_count": 1,
   "metadata": {
    "id": "G2b8NT-AYsUo"
   },
   "outputs": [
    {
     "name": "stdout",
     "output_type": "stream",
     "text": [
      "shape of x_train: (50000, 32, 32, 3)\n",
      "shape of y_train: (50000, 1)\n",
      "shape of x_test: (10000, 32, 32, 3)\n",
      "shape of y_test: (10000, 1)\n",
      "number of classes: 10\n"
     ]
    }
   ],
   "source": [
    "from keras.datasets import cifar10\n",
    "import numpy\n",
    "\n",
    "(x_train, y_train), (x_test, y_test) = cifar10.load_data()\n",
    "\n",
    "print('shape of x_train: ' + str(x_train.shape))\n",
    "print('shape of y_train: ' + str(y_train.shape))\n",
    "print('shape of x_test: ' + str(x_test.shape))\n",
    "print('shape of y_test: ' + str(y_test.shape))\n",
    "print('number of classes: ' + str(numpy.max(y_train) - numpy.min(y_train) + 1))"
   ]
  },
  {
   "cell_type": "markdown",
   "metadata": {
    "id": "JScPADU-YsUp"
   },
   "source": [
    "### 1.2. One-hot encode the labels\n",
    "\n",
    "In the input, a label is a scalar in $\\{0, 1, \\cdots , 9\\}$. One-hot encode transform such a scalar to a $10$-dim vector. E.g., a scalar ```y_train[j]=3``` is transformed to the vector ```y_train_vec[j]=[0, 0, 0, 1, 0, 0, 0, 0, 0, 0]```.\n",
    "\n",
    "1. Define a function ```to_one_hot``` that transforms an $n\\times 1$ array to a $n\\times 10$ matrix.\n",
    "\n",
    "2. Apply the function to ```y_train``` and ```y_test```."
   ]
  },
  {
   "cell_type": "code",
   "execution_count": 2,
   "metadata": {
    "id": "D_u4366jYsUp"
   },
   "outputs": [
    {
     "name": "stdout",
     "output_type": "stream",
     "text": [
      "Shape of y_train_vec: (50000, 10)\n",
      "Shape of y_test_vec: (10000, 10)\n",
      "[6]\n",
      "[0. 0. 0. 0. 0. 0. 1. 0. 0. 0.]\n"
     ]
    }
   ],
   "source": [
    "import numpy as np\n",
    "def to_one_hot(y, num_classes=10):\n",
    "    y = y.flatten().astype(int)\n",
    "    # Initialize an array of zeros with shape n x num_classes\n",
    "    one_hot = np.zeros((y.shape[0], num_classes))\n",
    "    # Set the appropriate element to 1 for each label\n",
    "    one_hot[np.arange(y.shape[0]), y] = 1\n",
    "    return one_hot\n",
    "\n",
    "y_train_vec = to_one_hot(y_train)\n",
    "y_test_vec = to_one_hot(y_test)\n",
    "\n",
    "print('Shape of y_train_vec: ' + str(y_train_vec.shape))\n",
    "print('Shape of y_test_vec: ' + str(y_test_vec.shape))\n",
    "\n",
    "print(y_train[0])\n",
    "print(y_train_vec[0])"
   ]
  },
  {
   "cell_type": "markdown",
   "metadata": {
    "id": "ApZbB3lKYsUp"
   },
   "source": [
    "#### Remark: the outputs should be\n",
    "* Shape of y_train_vec: (50000, 10)\n",
    "* Shape of y_test_vec: (10000, 10)\n",
    "* [6]\n",
    "* [0. 0. 0. 0. 0. 0. 1. 0. 0. 0.]"
   ]
  },
  {
   "cell_type": "markdown",
   "metadata": {
    "id": "y74DsVY8YsUp"
   },
   "source": [
    "### 1.3. Randomly partition the training set to training and validation sets\n",
    "\n",
    "Randomly partition the 50K training samples to 2 sets:\n",
    "* a training set containing 40K samples\n",
    "* a validation set containing 10K samples\n"
   ]
  },
  {
   "cell_type": "code",
   "execution_count": 3,
   "metadata": {
    "id": "ab6kMNIiYsUq"
   },
   "outputs": [
    {
     "name": "stdout",
     "output_type": "stream",
     "text": [
      "Shape of x_tr: (40000, 32, 32, 3)\n",
      "Shape of y_tr: (40000, 10)\n",
      "Shape of x_val: (10000, 32, 32, 3)\n",
      "Shape of y_val: (10000, 10)\n"
     ]
    }
   ],
   "source": [
    "rand_indices = numpy.random.permutation(50000)\n",
    "train_indices = rand_indices[0:40000]\n",
    "valid_indices = rand_indices[40000:50000]\n",
    "\n",
    "x_val = x_train[valid_indices, :]\n",
    "y_val = y_train_vec[valid_indices, :]\n",
    "\n",
    "x_tr = x_train[train_indices, :]\n",
    "y_tr = y_train_vec[train_indices, :]\n",
    "\n",
    "print('Shape of x_tr: ' + str(x_tr.shape))\n",
    "print('Shape of y_tr: ' + str(y_tr.shape))\n",
    "print('Shape of x_val: ' + str(x_val.shape))\n",
    "print('Shape of y_val: ' + str(y_val.shape))"
   ]
  },
  {
   "cell_type": "markdown",
   "metadata": {},
   "source": [
    "# Data Augmentation"
   ]
  },
  {
   "cell_type": "code",
   "execution_count": 4,
   "metadata": {},
   "outputs": [],
   "source": [
    "from tensorflow.keras.preprocessing.image import ImageDataGenerator"
   ]
  },
  {
   "cell_type": "code",
   "execution_count": 5,
   "metadata": {},
   "outputs": [],
   "source": [
    "# Create a data augmentation generator\n",
    "datagen = ImageDataGenerator(\n",
    "    rotation_range=15,     # Random rotation degrees\n",
    "    width_shift_range=0.1, # Random horizontal shift\n",
    "    height_shift_range=0.1,# Random vertical shift\n",
    "    horizontal_flip=True,  # Random horizontal flip\n",
    "    zoom_range=0.1         # Random zoom\n",
    ")\n"
   ]
  },
  {
   "cell_type": "code",
   "execution_count": 7,
   "metadata": {},
   "outputs": [],
   "source": [
    "datagen.fit(x_tr)"
   ]
  },
  {
   "cell_type": "markdown",
   "metadata": {
    "id": "DQYwpt87YsUq"
   },
   "source": [
    "## 2. Build a CNN and tune its hyper-parameters\n",
    "\n",
    "1. Build a convolutional neural network model\n",
    "2. Use the validation data to tune the hyper-parameters (e.g., network structure, and optimization algorithm)\n",
    "    * **Do NOT use test data for hyper-parameter tuning!!!**\n",
    "3. Try to achieve a validation accuracy as high as possible."
   ]
  },
  {
   "cell_type": "markdown",
   "metadata": {
    "id": "KoARbeezYsUq"
   },
   "source": [
    "### Remark:\n",
    "\n",
    "The following CNN is just an naive example. You are supposed to make ***substantial improvements*** such as:\n",
    "* Add more layers.\n",
    "* Use regularizations, e.g., dropout.\n",
    "* Use batch normalization."
   ]
  },
  {
   "cell_type": "markdown",
   "metadata": {},
   "source": [
    "# About the CNN model used: \n",
    "#### This Keras model is a **Convolutional Neural Network (CNN)** designed for image classification, with hyperparameters that can be tuned using Keras Tuner. Here's a concise explanation:\n",
    "\n",
    "1. **Architecture**: \n",
    "   - The model has two **convolutional blocks** with varying filter sizes and dropout rates. Each block contains two **Conv2D layers** (for feature extraction), followed by **BatchNormalization** (for faster and stable training), **MaxPooling** (for down-sampling), and **Dropout** (to prevent overfitting).\n",
    "   \n",
    "2. **Hyperparameters**: \n",
    "   - The number of filters in the first and second Conv blocks (`conv1_filters`, `conv2_filters`), dropout rates (`dropout1`, `dropout2`, `dropout3`), and the number of units in the **Dense** layer are hyperparameters optimized using Keras Tuner.\n",
    "   - The **learning rate** of the **Adam** optimizer is also tuned.\n",
    "\n",
    "3. **Final Layers**: \n",
    "   - The model flattens the feature maps and passes them through a **Dense layer**, followed by a **softmax output** layer for multi-class classification.\n",
    "\n",
    "4. **Loss and Metrics**: \n",
    "   - The model uses **categorical crossentropy** as the loss function and **accuracy** as the evaluation metric."
   ]
  },
  {
   "cell_type": "code",
   "execution_count": 8,
   "metadata": {
    "id": "5l1LAYw7YsUq"
   },
   "outputs": [],
   "source": [
    "from keras.models import Sequential\n",
    "from tensorflow.keras.layers import Conv2D, MaxPooling2D, Dense, Flatten, Dropout, BatchNormalization\n",
    "from tensorflow.keras.optimizers import Adam\n",
    "\n",
    "\n",
    "# Define a model building function for Keras Tuner\n",
    "def build_model(hp):\n",
    "    model = Sequential()\n",
    "    \n",
    "    # First Conv block\n",
    "    model.add(Conv2D(\n",
    "        filters=hp.Int('conv1_filters', min_value=32, max_value=128, step=32), \n",
    "        kernel_size=(3, 3), padding='same', input_shape=(32, 32, 3)))\n",
    "    model.add(BatchNormalization())\n",
    "    model.add(Conv2D(\n",
    "        filters=hp.Int('conv1_filters', min_value=32, max_value=128, step=32), \n",
    "        kernel_size=(3, 3), padding='same'))\n",
    "    model.add(BatchNormalization())\n",
    "    model.add(MaxPooling2D(pool_size=(2, 2)))\n",
    "    model.add(Dropout(hp.Float('dropout1', 0.25, 0.5, step=0.05)))\n",
    "\n",
    "    # Second Conv block\n",
    "    model.add(Conv2D(\n",
    "        filters=hp.Int('conv2_filters', min_value=64, max_value=256, step=64), \n",
    "        kernel_size=(3, 3), padding='same'))\n",
    "    model.add(BatchNormalization())\n",
    "    model.add(Conv2D(\n",
    "        filters=hp.Int('conv2_filters', min_value=64, max_value=256, step=64), \n",
    "        kernel_size=(3, 3), padding='same'))\n",
    "    model.add(BatchNormalization())\n",
    "    model.add(MaxPooling2D(pool_size=(2, 2)))\n",
    "    model.add(Dropout(hp.Float('dropout2', 0.25, 0.5, step=0.05)))\n",
    "\n",
    "    # Flatten and Fully Connected layer\n",
    "    model.add(Flatten())\n",
    "    model.add(Dense(hp.Int('dense_units', min_value=128, max_value=512, step=128)))\n",
    "    model.add(BatchNormalization())\n",
    "    model.add(Dropout(hp.Float('dropout3', 0.25, 0.5, step=0.05)))\n",
    "    model.add(Dense(10, activation='softmax'))  # Output layer\n",
    "\n",
    "    # Compile the model with hyperparameters\n",
    "    model.compile(\n",
    "        optimizer=Adam(learning_rate=hp.Float('lr', min_value=1e-4, max_value=1e-2, sampling='log')),\n",
    "        loss='categorical_crossentropy',\n",
    "        metrics=['accuracy'])\n",
    "\n",
    "    return model\n"
   ]
  },
  {
   "cell_type": "markdown",
   "metadata": {},
   "source": [
    "## Searching for the best hyper parameters"
   ]
  },
  {
   "cell_type": "code",
   "execution_count": 9,
   "metadata": {},
   "outputs": [
    {
     "name": "stdout",
     "output_type": "stream",
     "text": [
      "Trial 30 Complete [00h 41m 26s]\n",
      "val_accuracy: 0.6908000111579895\n",
      "\n",
      "Best val_accuracy So Far: 0.7179999947547913\n",
      "Total elapsed time: 1d 01h 32m 47s\n",
      "\n",
      "The hyperparameter search is complete. The optimal number of filters in the first conv layer is 64,\n",
      "the optimal number of filters in the second conv layer is 256, \n",
      "and the best dense layer size is 384.\n",
      "The best learning rate is 0.0014711547097274132.\n",
      "\n"
     ]
    }
   ],
   "source": [
    "import keras_tuner as kt\n",
    "import tensorflow as tf\n",
    "from tensorflow.keras.layers import Conv2D, MaxPooling2D, Dense, Flatten, Dropout, BatchNormalization\n",
    "from tensorflow.keras.optimizers import Adam\n",
    "# Create a tuner object\n",
    "tuner = kt.Hyperband(\n",
    "    build_model,                      # The model-building function\n",
    "    objective='val_accuracy',          # Objective to optimize\n",
    "    max_epochs=20,                     # Max number of epochs\n",
    "    factor=3,                          # Hyperband factor\n",
    "    directory='hyperband_dir',         # Directory to save logs\n",
    "    project_name='cifar10_tuning'      # Project name for logs\n",
    ")\n",
    "\n",
    "# Early stopping to prevent overfitting\n",
    "stop_early = tf.keras.callbacks.EarlyStopping(monitor='val_loss', patience=5)\n",
    "\n",
    "# Perform the hyperparameter search\n",
    "tuner.search(x_tr, y_tr, epochs=20, validation_data=(x_val, y_val), callbacks=[stop_early])\n",
    "\n",
    "# Get the best hyperparameters\n",
    "best_hps = tuner.get_best_hyperparameters(num_trials=1)[0]\n",
    "\n",
    "# Print the optimal hyperparameters\n",
    "print(f\"\"\"\n",
    "The hyperparameter search is complete. The optimal number of filters in the first conv layer is {best_hps.get('conv1_filters')},\n",
    "the optimal number of filters in the second conv layer is {best_hps.get('conv2_filters')}, \n",
    "and the best dense layer size is {best_hps.get('dense_units')}.\n",
    "The best learning rate is {best_hps.get('lr')}.\n",
    "\"\"\")"
   ]
  },
  {
   "cell_type": "markdown",
   "metadata": {},
   "source": [
    "# Using the best hyperparameters with data augmentation"
   ]
  },
  {
   "cell_type": "code",
   "execution_count": 5,
   "metadata": {},
   "outputs": [],
   "source": [
    "import numpy as np\n",
    "from tensorflow.keras.datasets import cifar10\n",
    "from tensorflow.keras.models import Sequential\n",
    "from tensorflow.keras.layers import Conv2D, MaxPooling2D, Dense, Flatten, Dropout, BatchNormalization\n",
    "from tensorflow.keras.optimizers import Adam\n",
    "from tensorflow.keras.preprocessing.image import ImageDataGenerator\n",
    "from tensorflow.keras.utils import to_categorical\n",
    "import tensorflow as tf\n",
    "\n",
    "\n",
    "# Create a data augmentation generator\n",
    "datagen = ImageDataGenerator(\n",
    "    rotation_range=15,     # Random rotation degrees\n",
    "    width_shift_range=0.1, # Random horizontal shift\n",
    "    height_shift_range=0.1,# Random vertical shift\n",
    "    horizontal_flip=True,  # Random horizontal flip\n",
    "    zoom_range=0.1         # Random zoom\n",
    ")\n",
    "\n",
    "# Fit the generator to the training data\n",
    "datagen.fit(x_tr)\n",
    "\n",
    "# Define the model using the best hyperparameters\n",
    "model = Sequential()\n",
    "\n",
    "# First Conv block with optimal filters\n",
    "model.add(Conv2D(64, kernel_size=(3, 3), padding='same', input_shape=(32, 32, 3)))\n",
    "model.add(BatchNormalization())\n",
    "model.add(Conv2D(64, kernel_size=(3, 3), padding='same'))\n",
    "model.add(BatchNormalization())\n",
    "model.add(MaxPooling2D(pool_size=(2, 2)))\n",
    "model.add(Dropout(0.3))\n",
    "\n",
    "# Second Conv block with optimal filters\n",
    "model.add(Conv2D(256, kernel_size=(3, 3), padding='same'))\n",
    "model.add(BatchNormalization())\n",
    "model.add(Conv2D(256, kernel_size=(3, 3), padding='same'))\n",
    "model.add(BatchNormalization())\n",
    "model.add(MaxPooling2D(pool_size=(2, 2)))\n",
    "model.add(Dropout(0.4))\n",
    "\n",
    "# Flatten and Fully Connected layer with optimal dense units\n",
    "model.add(Flatten())\n",
    "model.add(Dense(384, activation='relu'))\n",
    "model.add(BatchNormalization())\n",
    "model.add(Dropout(0.4))\n",
    "model.add(Dense(10, activation='softmax'))  # Output layer\n"
   ]
  },
  {
   "cell_type": "code",
   "execution_count": 6,
   "metadata": {
    "id": "ntSHF2_vYsUq"
   },
   "outputs": [
    {
     "name": "stdout",
     "output_type": "stream",
     "text": [
      "Epoch 1/30\n",
      "625/625 [==============================] - 470s 748ms/step - loss: 1.7994 - accuracy: 0.3879 - val_loss: 1.8622 - val_accuracy: 0.4277\n",
      "Epoch 2/30\n",
      "625/625 [==============================] - 488s 782ms/step - loss: 1.3975 - accuracy: 0.5079 - val_loss: 1.3321 - val_accuracy: 0.5417\n",
      "Epoch 3/30\n",
      "625/625 [==============================] - 637s 1s/step - loss: 1.2619 - accuracy: 0.5533 - val_loss: 1.3395 - val_accuracy: 0.5699\n",
      "Epoch 4/30\n",
      "625/625 [==============================] - 566s 906ms/step - loss: 1.1891 - accuracy: 0.5835 - val_loss: 1.3292 - val_accuracy: 0.5712\n",
      "Epoch 5/30\n",
      "625/625 [==============================] - 660s 1s/step - loss: 1.1312 - accuracy: 0.6053 - val_loss: 1.3682 - val_accuracy: 0.6021\n",
      "Epoch 6/30\n",
      "625/625 [==============================] - 564s 902ms/step - loss: 1.0937 - accuracy: 0.6175 - val_loss: 1.1808 - val_accuracy: 0.6215\n",
      "Epoch 7/30\n",
      "625/625 [==============================] - 515s 824ms/step - loss: 1.0603 - accuracy: 0.6306 - val_loss: 0.9260 - val_accuracy: 0.6853\n",
      "Epoch 8/30\n",
      "625/625 [==============================] - 500s 800ms/step - loss: 1.0377 - accuracy: 0.6387 - val_loss: 1.1809 - val_accuracy: 0.6555\n",
      "Epoch 9/30\n",
      "625/625 [==============================] - 492s 788ms/step - loss: 1.0095 - accuracy: 0.6472 - val_loss: 0.9164 - val_accuracy: 0.6908\n",
      "Epoch 10/30\n",
      "625/625 [==============================] - 499s 799ms/step - loss: 0.9869 - accuracy: 0.6578 - val_loss: 1.0026 - val_accuracy: 0.6748\n",
      "Epoch 11/30\n",
      "625/625 [==============================] - 501s 801ms/step - loss: 0.9688 - accuracy: 0.6602 - val_loss: 0.9808 - val_accuracy: 0.6708\n",
      "Epoch 12/30\n",
      "625/625 [==============================] - 495s 793ms/step - loss: 0.9541 - accuracy: 0.6711 - val_loss: 0.8699 - val_accuracy: 0.6995\n",
      "Epoch 13/30\n",
      "625/625 [==============================] - 495s 793ms/step - loss: 0.9408 - accuracy: 0.6718 - val_loss: 0.9370 - val_accuracy: 0.6988\n",
      "Epoch 14/30\n",
      "625/625 [==============================] - 498s 797ms/step - loss: 0.9252 - accuracy: 0.6785 - val_loss: 0.9552 - val_accuracy: 0.6916\n",
      "Epoch 15/30\n",
      "625/625 [==============================] - 503s 805ms/step - loss: 0.9156 - accuracy: 0.6824 - val_loss: 0.9037 - val_accuracy: 0.6988\n",
      "Epoch 16/30\n",
      "625/625 [==============================] - 494s 790ms/step - loss: 0.8968 - accuracy: 0.6882 - val_loss: 0.9908 - val_accuracy: 0.6863\n",
      "Epoch 17/30\n",
      "625/625 [==============================] - 493s 789ms/step - loss: 0.8935 - accuracy: 0.6894 - val_loss: 0.7882 - val_accuracy: 0.7359\n",
      "Epoch 18/30\n",
      "625/625 [==============================] - 493s 789ms/step - loss: 0.8805 - accuracy: 0.6924 - val_loss: 0.8449 - val_accuracy: 0.7256\n",
      "Epoch 19/30\n",
      "625/625 [==============================] - 493s 789ms/step - loss: 0.8660 - accuracy: 0.6989 - val_loss: 0.8709 - val_accuracy: 0.7121\n",
      "Epoch 20/30\n",
      "625/625 [==============================] - 492s 788ms/step - loss: 0.8584 - accuracy: 0.7007 - val_loss: 0.8199 - val_accuracy: 0.7216\n",
      "Epoch 21/30\n",
      "625/625 [==============================] - 493s 789ms/step - loss: 0.8526 - accuracy: 0.7059 - val_loss: 0.7912 - val_accuracy: 0.7321\n",
      "Epoch 22/30\n",
      "625/625 [==============================] - 495s 792ms/step - loss: 0.8359 - accuracy: 0.7087 - val_loss: 0.7665 - val_accuracy: 0.7391\n",
      "Epoch 23/30\n",
      "625/625 [==============================] - 498s 796ms/step - loss: 0.8318 - accuracy: 0.7110 - val_loss: 0.7465 - val_accuracy: 0.7523\n",
      "Epoch 24/30\n",
      "625/625 [==============================] - 499s 798ms/step - loss: 0.8301 - accuracy: 0.7102 - val_loss: 0.7496 - val_accuracy: 0.7544\n",
      "Epoch 25/30\n",
      "625/625 [==============================] - 496s 793ms/step - loss: 0.8184 - accuracy: 0.7153 - val_loss: 0.7167 - val_accuracy: 0.7585\n",
      "Epoch 26/30\n",
      "625/625 [==============================] - 494s 790ms/step - loss: 0.8117 - accuracy: 0.7204 - val_loss: 0.7601 - val_accuracy: 0.7520\n",
      "Epoch 27/30\n",
      "625/625 [==============================] - 492s 788ms/step - loss: 0.8186 - accuracy: 0.7187 - val_loss: 0.7528 - val_accuracy: 0.7499\n",
      "Epoch 28/30\n",
      "625/625 [==============================] - 490s 785ms/step - loss: 0.7996 - accuracy: 0.7211 - val_loss: 0.7702 - val_accuracy: 0.7454\n",
      "Epoch 29/30\n",
      "625/625 [==============================] - 497s 795ms/step - loss: 0.7871 - accuracy: 0.7261 - val_loss: 0.7446 - val_accuracy: 0.7588\n",
      "Epoch 30/30\n",
      "625/625 [==============================] - 498s 797ms/step - loss: 0.7844 - accuracy: 0.7250 - val_loss: 0.7184 - val_accuracy: 0.7618\n"
     ]
    }
   ],
   "source": [
    "\n",
    "# Compile the model with the best learning rate\n",
    "optimizer = Adam(learning_rate=0.0014711547097274132)\n",
    "model.compile(optimizer=optimizer, loss='categorical_crossentropy', metrics=['accuracy'])\n",
    "\n",
    "# Early stopping to prevent overfitting\n",
    "early_stopping = tf.keras.callbacks.EarlyStopping(monitor='val_loss', patience=5)\n",
    "\n",
    "# Train the model using the data augmentation generator\n",
    "history = model.fit(datagen.flow(x_tr, y_tr, batch_size=64),\n",
    "                    epochs=30, validation_data=(x_val, y_val),\n",
    "                    callbacks=[early_stopping])\n"
   ]
  },
  {
   "cell_type": "code",
   "execution_count": null,
   "metadata": {
    "id": "F06qidkJYsUr"
   },
   "outputs": [],
   "source": []
  },
  {
   "cell_type": "code",
   "execution_count": 7,
   "metadata": {
    "id": "Ek5pLO8yYsUr"
   },
   "outputs": [
    {
     "data": {
      "image/png": "[encoded data removed]",
      "text/plain": [
       "<Figure size 640x480 with 1 Axes>"
      ]
     },
     "metadata": {},
     "output_type": "display_data"
    }
   ],
   "source": [
    "import matplotlib.pyplot as plt\n",
    "%matplotlib inline\n",
    "\n",
    "acc = history.history['accuracy']\n",
    "val_acc = history.history['val_accuracy']\n",
    "\n",
    "epochs = range(len(acc))\n",
    "\n",
    "plt.plot(epochs, acc, 'bo', label='Training acc')\n",
    "plt.plot(epochs, val_acc, 'r', label='Validation acc')\n",
    "plt.xlabel('Epochs')\n",
    "plt.ylabel('Accuracy')\n",
    "plt.legend()\n",
    "plt.show()"
   ]
  },
  {
   "cell_type": "markdown",
   "metadata": {
    "id": "JW3IV4ayYsUr"
   },
   "source": [
    "## 3. Train (again) and evaluate the model\n",
    "\n",
    "- To this end, you have found the \"best\" hyper-parameters.\n",
    "- Now, fix the hyper-parameters and train the network on the entire training set (all the 50K training samples)\n",
    "- Evaluate your model on the test set."
   ]
  },
  {
   "cell_type": "markdown",
   "metadata": {
    "id": "zA44e819YsUr"
   },
   "source": [
    "### 3.1. Train the model on the entire training set\n",
    "\n",
    "Why? Previously, you used 40K samples for training; you wasted 10K samples for the sake of hyper-parameter tuning. Now you already know the hyper-parameters, so why not using all the 50K samples for training?"
   ]
  },
  {
   "cell_type": "code",
   "execution_count": 8,
   "metadata": {
    "id": "uBnd4O81YsUr"
   },
   "outputs": [],
   "source": [
    "# <Compile your model again (using the same hyper-parameters)>\n",
    "\n",
    "optimizer = Adam(learning_rate=0.001)\n",
    "model.compile(loss='categorical_crossentropy',\n",
    "              optimizer=optimizer,\n",
    "              metrics=['accuracy'])\n"
   ]
  },
  {
   "cell_type": "code",
   "execution_count": 9,
   "metadata": {
    "id": "PnCAnl8MYsUr"
   },
   "outputs": [
    {
     "name": "stdout",
     "output_type": "stream",
     "text": [
      "Epoch 1/50\n",
      "782/782 [==============================] - 575s 733ms/step - loss: 0.6193 - accuracy: 0.7870\n",
      "Epoch 2/50\n",
      "782/782 [==============================] - 574s 734ms/step - loss: 0.5631 - accuracy: 0.8050\n",
      "Epoch 3/50\n",
      "782/782 [==============================] - 571s 731ms/step - loss: 0.5204 - accuracy: 0.8173\n",
      "Epoch 4/50\n",
      "782/782 [==============================] - 577s 738ms/step - loss: 0.4845 - accuracy: 0.8306\n",
      "Epoch 5/50\n",
      "782/782 [==============================] - 577s 738ms/step - loss: 0.4498 - accuracy: 0.8434\n",
      "Epoch 6/50\n",
      "782/782 [==============================] - 586s 749ms/step - loss: 0.4168 - accuracy: 0.8542\n",
      "Epoch 7/50\n",
      "782/782 [==============================] - 576s 737ms/step - loss: 0.3917 - accuracy: 0.8618\n",
      "Epoch 8/50\n",
      "782/782 [==============================] - 572s 732ms/step - loss: 0.3747 - accuracy: 0.8689\n",
      "Epoch 9/50\n",
      "782/782 [==============================] - 572s 731ms/step - loss: 0.3449 - accuracy: 0.8780\n",
      "Epoch 10/50\n",
      "782/782 [==============================] - 591s 756ms/step - loss: 0.3297 - accuracy: 0.8831\n",
      "Epoch 11/50\n",
      "782/782 [==============================] - 577s 738ms/step - loss: 0.3173 - accuracy: 0.8872\n",
      "Epoch 12/50\n",
      "782/782 [==============================] - 583s 746ms/step - loss: 0.2951 - accuracy: 0.8971\n",
      "Epoch 13/50\n",
      "782/782 [==============================] - 582s 744ms/step - loss: 0.2834 - accuracy: 0.8983\n",
      "Epoch 14/50\n",
      "782/782 [==============================] - 577s 737ms/step - loss: 0.2704 - accuracy: 0.9044\n",
      "Epoch 15/50\n",
      "782/782 [==============================] - 576s 736ms/step - loss: 0.2619 - accuracy: 0.9064\n",
      "Epoch 16/50\n",
      "782/782 [==============================] - 578s 740ms/step - loss: 0.2502 - accuracy: 0.9114\n",
      "Epoch 17/50\n",
      "782/782 [==============================] - 575s 736ms/step - loss: 0.2398 - accuracy: 0.9156\n",
      "Epoch 18/50\n",
      "782/782 [==============================] - 579s 740ms/step - loss: 0.2311 - accuracy: 0.9182\n",
      "Epoch 19/50\n",
      "782/782 [==============================] - 583s 745ms/step - loss: 0.2301 - accuracy: 0.9178\n",
      "Epoch 20/50\n",
      "782/782 [==============================] - 578s 739ms/step - loss: 0.2312 - accuracy: 0.9171\n",
      "Epoch 21/50\n",
      "782/782 [==============================] - 587s 750ms/step - loss: 0.2085 - accuracy: 0.9262\n",
      "Epoch 22/50\n",
      "782/782 [==============================] - 580s 741ms/step - loss: 0.2028 - accuracy: 0.9284\n",
      "Epoch 23/50\n",
      "782/782 [==============================] - 578s 739ms/step - loss: 0.2024 - accuracy: 0.9292\n",
      "Epoch 24/50\n",
      "782/782 [==============================] - 581s 743ms/step - loss: 0.1925 - accuracy: 0.9324\n",
      "Epoch 25/50\n",
      "782/782 [==============================] - 584s 747ms/step - loss: 0.1805 - accuracy: 0.9364\n",
      "Epoch 26/50\n",
      "782/782 [==============================] - 578s 740ms/step - loss: 0.1803 - accuracy: 0.9358\n",
      "Epoch 27/50\n",
      "782/782 [==============================] - 579s 741ms/step - loss: 0.1764 - accuracy: 0.9380\n",
      "Epoch 28/50\n",
      "782/782 [==============================] - 579s 740ms/step - loss: 0.1728 - accuracy: 0.9391\n",
      "Epoch 29/50\n",
      "782/782 [==============================] - 603s 771ms/step - loss: 0.1717 - accuracy: 0.9393\n",
      "Epoch 30/50\n",
      "782/782 [==============================] - 628s 803ms/step - loss: 0.1583 - accuracy: 0.9440\n",
      "Epoch 31/50\n",
      "782/782 [==============================] - 656s 838ms/step - loss: 0.1570 - accuracy: 0.9451\n",
      "Epoch 32/50\n",
      "782/782 [==============================] - 583s 745ms/step - loss: 0.1570 - accuracy: 0.9452\n",
      "Epoch 33/50\n",
      "782/782 [==============================] - 584s 747ms/step - loss: 0.1528 - accuracy: 0.9449\n",
      "Epoch 34/50\n",
      "782/782 [==============================] - 598s 765ms/step - loss: 0.1515 - accuracy: 0.9461\n",
      "Epoch 35/50\n",
      "782/782 [==============================] - 579s 741ms/step - loss: 0.1460 - accuracy: 0.9490\n",
      "Epoch 36/50\n",
      "782/782 [==============================] - 587s 751ms/step - loss: 0.1485 - accuracy: 0.9477\n",
      "Epoch 37/50\n",
      "782/782 [==============================] - 612s 782ms/step - loss: 0.1517 - accuracy: 0.9471\n",
      "Epoch 38/50\n",
      "782/782 [==============================] - 595s 761ms/step - loss: 0.1386 - accuracy: 0.9509\n",
      "Epoch 39/50\n",
      "782/782 [==============================] - 590s 754ms/step - loss: 0.1407 - accuracy: 0.9511\n",
      "Epoch 40/50\n",
      "782/782 [==============================] - 578s 739ms/step - loss: 0.1361 - accuracy: 0.9515\n",
      "Epoch 41/50\n",
      "782/782 [==============================] - 577s 738ms/step - loss: 0.1318 - accuracy: 0.9533\n",
      "Epoch 42/50\n",
      "782/782 [==============================] - 551s 704ms/step - loss: 0.1318 - accuracy: 0.9537\n",
      "Epoch 43/50\n",
      "782/782 [==============================] - 567s 725ms/step - loss: 0.1301 - accuracy: 0.9557\n",
      "Epoch 44/50\n",
      "782/782 [==============================] - 581s 743ms/step - loss: 0.1300 - accuracy: 0.9542\n",
      "Epoch 45/50\n",
      "782/782 [==============================] - 595s 760ms/step - loss: 0.1256 - accuracy: 0.9555\n",
      "Epoch 46/50\n",
      "782/782 [==============================] - 571s 731ms/step - loss: 0.1266 - accuracy: 0.9561\n",
      "Epoch 47/50\n",
      "782/782 [==============================] - 591s 756ms/step - loss: 0.1243 - accuracy: 0.9562\n",
      "Epoch 48/50\n",
      "782/782 [==============================] - 582s 745ms/step - loss: 0.1223 - accuracy: 0.9574\n",
      "Epoch 49/50\n",
      "782/782 [==============================] - 579s 741ms/step - loss: 0.1227 - accuracy: 0.9577\n",
      "Epoch 50/50\n",
      "782/782 [==============================] - 579s 740ms/step - loss: 0.1170 - accuracy: 0.9594\n"
     ]
    }
   ],
   "source": [
    "# <Train your model on the entire training set (50K samples)>\n",
    "# <Use (x_train, y_train_vec) instead of (x_tr, y_tr)>\n",
    "# <Do NOT use the validation_data option (because now you do not have validation data)>\n",
    "\n",
    "history= model.fit(x_train, y_train_vec, epochs=50, batch_size=64) "
   ]
  },
  {
   "cell_type": "code",
   "execution_count": 16,
   "metadata": {},
   "outputs": [
    {
     "data": {
      "image/png": "[encoded data removed]",
      "text/plain": [
       "<Figure size 640x480 with 1 Axes>"
      ]
     },
     "metadata": {},
     "output_type": "display_data"
    }
   ],
   "source": [
    "import matplotlib.pyplot as plt\n",
    "%matplotlib inline\n",
    "\n",
    "acc = history.history['accuracy']\n",
    "\n",
    "epochs = range(len(acc))\n",
    "\n",
    "plt.plot(epochs, acc,  label='Training acc')\n",
    "plt.xlabel('Epochs')\n",
    "plt.ylabel('Accuracy')\n",
    "plt.legend()\n",
    "plt.show()"
   ]
  },
  {
   "cell_type": "markdown",
   "metadata": {
    "id": "usubpA1JYsUs"
   },
   "source": [
    "### 3.2. Evaluate the model on the test set\n",
    "\n",
    "Do NOT used the test set until now. Make sure that your model parameters and hyper-parameters are independent of the test set."
   ]
  },
  {
   "cell_type": "code",
   "execution_count": 10,
   "metadata": {
    "id": "NaWtdHymYsUs"
   },
   "outputs": [
    {
     "name": "stdout",
     "output_type": "stream",
     "text": [
      "313/313 [==============================] - 33s 104ms/step - loss: 0.9017 - accuracy: 0.8004\n",
      "loss = 0.9016519784927368\n",
      "accuracy = 0.8004000186920166\n"
     ]
    }
   ],
   "source": [
    "loss_and_acc = model.evaluate(x_test, y_test_vec)\n",
    "print('loss = ' + str(loss_and_acc[0]))\n",
    "print('accuracy = ' + str(loss_and_acc[1]))"
   ]
  },
  {
   "cell_type": "markdown",
   "metadata": {
    "id": "XYCDIbUaYsUs"
   },
   "source": [
    "## Conclusion :\n",
    "\n",
    "The custom Convolutional Neural Network (CNN) achieved a strong performance on the CIFAR-10 dataset, with a **training accuracy of 95.94%** on 50,000 samples and a **test accuracy of 80.04%** on 10,000 samples. This indicates that the model effectively learned the patterns in the training data, while also generalizing well to unseen test data. However, the difference between training and test accuracy suggests slight overfitting, which could be further addressed with additional regularization techniques or enhanced data augmentation. Overall, the model met the target of achieving over 80% accuracy, demonstrating its effectiveness for image classification tasks on CIFAR-10."
   ]
  }
 ],
 "metadata": {
  "colab": {
   "provenance": []
  },
  "kernelspec": {
   "display_name": "Python 3 (ipykernel)",
   "language": "python",
   "name": "python3"
  },
  "language_info": {
   "codemirror_mode": {
    "name": "ipython",
    "version": 3
   },
   "file_extension": ".py",
   "mimetype": "text/x-python",
   "name": "python",
   "nbconvert_exporter": "python",
   "pygments_lexer": "ipython3",
   "version": "3.11.4"
  }
 },
 "nbformat": 4,
 "nbformat_minor": 1
}
